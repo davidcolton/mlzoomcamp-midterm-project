{
 "cells": [
  {
   "cell_type": "markdown",
   "id": "06880349-8ab4-4684-9c4a-b1197411af43",
   "metadata": {},
   "source": [
    "# Decision Tree\n",
    "\n",
    "We'll start by evaluating some a decision tree model using AUC to get the best score. We'll also review the Confusion Matrix for the best model on the validation data as well as looking at the models precision and recall."
   ]
  },
  {
   "cell_type": "markdown",
   "id": "1ae8faa8-f290-439a-8171-4c05967bd976",
   "metadata": {},
   "source": [
    "---\n",
    "\n",
    "## Imports and import Data"
   ]
  },
  {
   "cell_type": "code",
   "execution_count": 36,
   "id": "b7ad67e4-daed-4ce1-8df9-aa9555ba47e0",
   "metadata": {},
   "outputs": [],
   "source": [
    "import jupyter_black\n",
    "\n",
    "jupyter_black.load()\n",
    "\n",
    "import numpy as np\n",
    "import pandas as pd\n",
    "import seaborn as sns\n",
    "import matplotlib.pyplot as plt\n",
    "\n",
    "from sklearn.feature_extraction import DictVectorizer\n",
    "from sklearn.model_selection import GridSearchCV\n",
    "from sklearn.metrics import (\n",
    "    confusion_matrix,\n",
    "    precision_score,\n",
    "    recall_score,\n",
    "    roc_auc_score,\n",
    ")\n",
    "\n",
    "from sklearn.tree import DecisionTreeClassifier\n",
    "from sklearn.tree import export_text\n",
    "\n",
    "from sklearn import tree\n",
    "\n",
    "from sklearn.model_selection import RepeatedStratifiedKFold\n",
    "from sklearn.model_selection import train_test_split"
   ]
  },
  {
   "cell_type": "markdown",
   "id": "975d808b-c5df-4152-bbfe-dab4c76d859c",
   "metadata": {},
   "source": [
    "### Import the data"
   ]
  },
  {
   "cell_type": "code",
   "execution_count": 37,
   "id": "6b381af9-6e70-4e58-bbfe-8b5461c5a035",
   "metadata": {},
   "outputs": [],
   "source": [
    "df = pd.read_csv(\"./final_data.csv\")"
   ]
  },
  {
   "cell_type": "code",
   "execution_count": 38,
   "id": "4a539ebe-b506-4f51-9eb8-ddaba565720d",
   "metadata": {},
   "outputs": [
    {
     "data": {
      "text/plain": [
       "(72063, 18)"
      ]
     },
     "execution_count": 38,
     "metadata": {},
     "output_type": "execute_result"
    }
   ],
   "source": [
    "df.shape"
   ]
  },
  {
   "cell_type": "code",
   "execution_count": 39,
   "id": "6872bc4f-e42f-4261-99db-2a2b4667b809",
   "metadata": {},
   "outputs": [],
   "source": [
    "# Some records are noy unique\n",
    "df.drop_duplicates(inplace=True)"
   ]
  },
  {
   "cell_type": "code",
   "execution_count": 40,
   "id": "af0fc43b-3e5a-4fe6-af72-90bf7b8f9352",
   "metadata": {},
   "outputs": [
    {
     "name": "stdout",
     "output_type": "stream",
     "text": [
      "<class 'pandas.core.frame.DataFrame'>\n",
      "Int64Index: 71866 entries, 0 to 72062\n",
      "Data columns (total 18 columns):\n",
      " #   Column                Non-Null Count  Dtype  \n",
      "---  ------                --------------  -----  \n",
      " 0   block                 71866 non-null  object \n",
      " 1   iucr                  71866 non-null  object \n",
      " 2   primary_type          71866 non-null  object \n",
      " 3   description           71866 non-null  object \n",
      " 4   location_description  71866 non-null  object \n",
      " 5   arrest                71866 non-null  bool   \n",
      " 6   domestic              71866 non-null  bool   \n",
      " 7   beat                  71866 non-null  int64  \n",
      " 8   district              71866 non-null  int64  \n",
      " 9   ward                  71866 non-null  int64  \n",
      " 10  community_area        71866 non-null  int64  \n",
      " 11  fbi_code              71866 non-null  object \n",
      " 12  latitude              71866 non-null  float64\n",
      " 13  longitude             71866 non-null  float64\n",
      " 14  hour                  71866 non-null  int64  \n",
      " 15  day                   71866 non-null  int64  \n",
      " 16  zip                   71866 non-null  object \n",
      " 17  street                71866 non-null  object \n",
      "dtypes: bool(2), float64(2), int64(6), object(8)\n",
      "memory usage: 9.5+ MB\n"
     ]
    }
   ],
   "source": [
    "df.info()"
   ]
  },
  {
   "cell_type": "markdown",
   "id": "5c01cca2-f061-429b-aed8-6919d0f0a6c4",
   "metadata": {},
   "source": [
    "### Set Target\n",
    "\n",
    "The target feature is `arrest` which is a boolean feature. For the medel we need to change this to `0` and `1` values.\n",
    "\n",
    "We will also change the `domestic` feature in the same manner"
   ]
  },
  {
   "cell_type": "code",
   "execution_count": 41,
   "id": "d01fa95c-f980-487a-ac34-6775d062fc42",
   "metadata": {},
   "outputs": [],
   "source": [
    "df.arrest = df.arrest.astype(int)\n",
    "df.domestic = df.domestic.astype(int)"
   ]
  },
  {
   "cell_type": "markdown",
   "id": "4b5a00e7-c28a-4c48-ac40-7d1420984a4d",
   "metadata": {},
   "source": [
    "### Identify Catergorical and Numeric Columns"
   ]
  },
  {
   "cell_type": "code",
   "execution_count": 42,
   "id": "b9a786f4-59e6-4b52-bce3-1ead5d2982d7",
   "metadata": {},
   "outputs": [],
   "source": [
    "categorical_columns = [\n",
    "    \"iucr\",\n",
    "    \"primary_type\",\n",
    "    \"description\",\n",
    "    \"location_description\",\n",
    "    \"fbi_code\",\n",
    "    \"zip\",\n",
    "    \"street\",\n",
    "]\n",
    "\n",
    "numerical_columns = [\n",
    "    \"domestic\",\n",
    "    \"beat\",\n",
    "    \"district\",\n",
    "    \"ward\",\n",
    "    \"community_area\",\n",
    "    \"latitude\",\n",
    "    \"longitude\",\n",
    "    \"hour\",\n",
    "    \"day\",\n",
    "]\n",
    "\n",
    "features = categorical_columns + numerical_columns"
   ]
  },
  {
   "cell_type": "markdown",
   "id": "c8297c44-3e5a-4146-b492-5383f99163ca",
   "metadata": {},
   "source": [
    "---\n",
    "\n",
    "# Simple Decision Tree\n",
    "\n",
    "### Split the Data\n",
    "\n",
    "The data will be split as follows:\n",
    "\n",
    "#### Training\n",
    "\n",
    "80% of the data will be used for Training. During training K-Fold cross validation will be used.\n",
    "\n",
    "One the best model parameters are identified the full training dataset will be used to train the final model.\n",
    "\n",
    "#### Test\n",
    "\n",
    "20% of the data will be help back for final testing of the model."
   ]
  },
  {
   "cell_type": "code",
   "execution_count": 43,
   "id": "ef69f8e3-3b17-4a78-b091-1e4e033644c7",
   "metadata": {},
   "outputs": [],
   "source": [
    "df_train, df_test = train_test_split(df, test_size=0.2, random_state=11)\n",
    "\n",
    "dict_train = df_train[features].to_dict(orient=\"records\")\n",
    "dict_test = df_test[features].to_dict(orient=\"records\")\n",
    "\n",
    "dv = DictVectorizer(sparse=False)\n",
    "\n",
    "X_train = dv.fit_transform(dict_train)\n",
    "X_test = dv.transform(dict_test)\n",
    "\n",
    "y_train = df_train.arrest.values\n",
    "y_test = df_test.arrest.values"
   ]
  },
  {
   "cell_type": "code",
   "execution_count": 44,
   "id": "87f59bf6-fd7e-4596-be93-da71ecf416d0",
   "metadata": {},
   "outputs": [
    {
     "data": {
      "text/plain": [
       "{'iucr': '1477',\n",
       " 'primary_type': 'WEAPONS VIOLATION',\n",
       " 'description': 'RECKLESS FIREARM DISCHARGE',\n",
       " 'location_description': 'PARK PROPERTY',\n",
       " 'fbi_code': '15',\n",
       " 'zip': '066XX',\n",
       " 'street': 'N, WESTERN, AVE',\n",
       " 'domestic': 0,\n",
       " 'beat': 2412,\n",
       " 'district': 24,\n",
       " 'ward': 50,\n",
       " 'community_area': 2,\n",
       " 'latitude': 42.001822361,\n",
       " 'longitude': -87.689987495,\n",
       " 'hour': 19,\n",
       " 'day': 3}"
      ]
     },
     "execution_count": 44,
     "metadata": {},
     "output_type": "execute_result"
    }
   ],
   "source": [
    "dict_train[0]"
   ]
  },
  {
   "cell_type": "code",
   "execution_count": 45,
   "id": "60920dec-48b4-43af-9b59-e89a4ddbc036",
   "metadata": {},
   "outputs": [],
   "source": [
    "# Setup parameters with a wide spread\n",
    "\n",
    "cv_wide = RepeatedStratifiedKFold(n_splits=5, n_repeats=1, random_state=999)\n",
    "cv_fine = RepeatedStratifiedKFold(n_splits=5, n_repeats=3, random_state=999)\n",
    "\n",
    "# We'll use grid search but to speed things up only do a single parameter at a time\n",
    "param_dict = {\n",
    "    \"max_depth\": range(3, 25, 3),\n",
    "    # \"min_samples_leaf\": range(10, 51, 10),\n",
    "    # \"min_samples_split\": range(10, 51, 10),\n",
    "}\n",
    "\n",
    "dt = DecisionTreeClassifier(random_state=999)"
   ]
  },
  {
   "cell_type": "markdown",
   "id": "b4fa0862-bd6b-45e7-83ca-c87b1d3e8a42",
   "metadata": {},
   "source": [
    "---\n",
    "\n",
    "### ROC AUC"
   ]
  },
  {
   "cell_type": "code",
   "execution_count": 46,
   "id": "b96852ff-9c53-45fd-b960-8fdd585aa88d",
   "metadata": {},
   "outputs": [
    {
     "name": "stdout",
     "output_type": "stream",
     "text": [
      "Fitting 5 folds for each of 8 candidates, totalling 40 fits\n"
     ]
    },
    {
     "data": {
      "text/html": [
       "<style>#sk-container-id-8 {color: black;background-color: white;}#sk-container-id-8 pre{padding: 0;}#sk-container-id-8 div.sk-toggleable {background-color: white;}#sk-container-id-8 label.sk-toggleable__label {cursor: pointer;display: block;width: 100%;margin-bottom: 0;padding: 0.3em;box-sizing: border-box;text-align: center;}#sk-container-id-8 label.sk-toggleable__label-arrow:before {content: \"▸\";float: left;margin-right: 0.25em;color: #696969;}#sk-container-id-8 label.sk-toggleable__label-arrow:hover:before {color: black;}#sk-container-id-8 div.sk-estimator:hover label.sk-toggleable__label-arrow:before {color: black;}#sk-container-id-8 div.sk-toggleable__content {max-height: 0;max-width: 0;overflow: hidden;text-align: left;background-color: #f0f8ff;}#sk-container-id-8 div.sk-toggleable__content pre {margin: 0.2em;color: black;border-radius: 0.25em;background-color: #f0f8ff;}#sk-container-id-8 input.sk-toggleable__control:checked~div.sk-toggleable__content {max-height: 200px;max-width: 100%;overflow: auto;}#sk-container-id-8 input.sk-toggleable__control:checked~label.sk-toggleable__label-arrow:before {content: \"▾\";}#sk-container-id-8 div.sk-estimator input.sk-toggleable__control:checked~label.sk-toggleable__label {background-color: #d4ebff;}#sk-container-id-8 div.sk-label input.sk-toggleable__control:checked~label.sk-toggleable__label {background-color: #d4ebff;}#sk-container-id-8 input.sk-hidden--visually {border: 0;clip: rect(1px 1px 1px 1px);clip: rect(1px, 1px, 1px, 1px);height: 1px;margin: -1px;overflow: hidden;padding: 0;position: absolute;width: 1px;}#sk-container-id-8 div.sk-estimator {font-family: monospace;background-color: #f0f8ff;border: 1px dotted black;border-radius: 0.25em;box-sizing: border-box;margin-bottom: 0.5em;}#sk-container-id-8 div.sk-estimator:hover {background-color: #d4ebff;}#sk-container-id-8 div.sk-parallel-item::after {content: \"\";width: 100%;border-bottom: 1px solid gray;flex-grow: 1;}#sk-container-id-8 div.sk-label:hover label.sk-toggleable__label {background-color: #d4ebff;}#sk-container-id-8 div.sk-serial::before {content: \"\";position: absolute;border-left: 1px solid gray;box-sizing: border-box;top: 0;bottom: 0;left: 50%;z-index: 0;}#sk-container-id-8 div.sk-serial {display: flex;flex-direction: column;align-items: center;background-color: white;padding-right: 0.2em;padding-left: 0.2em;position: relative;}#sk-container-id-8 div.sk-item {position: relative;z-index: 1;}#sk-container-id-8 div.sk-parallel {display: flex;align-items: stretch;justify-content: center;background-color: white;position: relative;}#sk-container-id-8 div.sk-item::before, #sk-container-id-8 div.sk-parallel-item::before {content: \"\";position: absolute;border-left: 1px solid gray;box-sizing: border-box;top: 0;bottom: 0;left: 50%;z-index: -1;}#sk-container-id-8 div.sk-parallel-item {display: flex;flex-direction: column;z-index: 1;position: relative;background-color: white;}#sk-container-id-8 div.sk-parallel-item:first-child::after {align-self: flex-end;width: 50%;}#sk-container-id-8 div.sk-parallel-item:last-child::after {align-self: flex-start;width: 50%;}#sk-container-id-8 div.sk-parallel-item:only-child::after {width: 0;}#sk-container-id-8 div.sk-dashed-wrapped {border: 1px dashed gray;margin: 0 0.4em 0.5em 0.4em;box-sizing: border-box;padding-bottom: 0.4em;background-color: white;}#sk-container-id-8 div.sk-label label {font-family: monospace;font-weight: bold;display: inline-block;line-height: 1.2em;}#sk-container-id-8 div.sk-label-container {text-align: center;}#sk-container-id-8 div.sk-container {/* jupyter's `normalize.less` sets `[hidden] { display: none; }` but bootstrap.min.css set `[hidden] { display: none !important; }` so we also need the `!important` here to be able to override the default hidden behavior on the sphinx rendered scikit-learn.org. See: https://github.com/scikit-learn/scikit-learn/issues/21755 */display: inline-block !important;position: relative;}#sk-container-id-8 div.sk-text-repr-fallback {display: none;}</style><div id=\"sk-container-id-8\" class=\"sk-top-container\"><div class=\"sk-text-repr-fallback\"><pre>GridSearchCV(cv=RepeatedStratifiedKFold(n_repeats=1, n_splits=5, random_state=999),\n",
       "             estimator=DecisionTreeClassifier(random_state=999), n_jobs=-1,\n",
       "             param_grid={&#x27;max_depth&#x27;: range(3, 25, 3)}, scoring=&#x27;roc_auc&#x27;,\n",
       "             verbose=1)</pre><b>In a Jupyter environment, please rerun this cell to show the HTML representation or trust the notebook. <br />On GitHub, the HTML representation is unable to render, please try loading this page with nbviewer.org.</b></div><div class=\"sk-container\" hidden><div class=\"sk-item sk-dashed-wrapped\"><div class=\"sk-label-container\"><div class=\"sk-label sk-toggleable\"><input class=\"sk-toggleable__control sk-hidden--visually\" id=\"sk-estimator-id-22\" type=\"checkbox\" ><label for=\"sk-estimator-id-22\" class=\"sk-toggleable__label sk-toggleable__label-arrow\">GridSearchCV</label><div class=\"sk-toggleable__content\"><pre>GridSearchCV(cv=RepeatedStratifiedKFold(n_repeats=1, n_splits=5, random_state=999),\n",
       "             estimator=DecisionTreeClassifier(random_state=999), n_jobs=-1,\n",
       "             param_grid={&#x27;max_depth&#x27;: range(3, 25, 3)}, scoring=&#x27;roc_auc&#x27;,\n",
       "             verbose=1)</pre></div></div></div><div class=\"sk-parallel\"><div class=\"sk-parallel-item\"><div class=\"sk-item\"><div class=\"sk-label-container\"><div class=\"sk-label sk-toggleable\"><input class=\"sk-toggleable__control sk-hidden--visually\" id=\"sk-estimator-id-23\" type=\"checkbox\" ><label for=\"sk-estimator-id-23\" class=\"sk-toggleable__label sk-toggleable__label-arrow\">estimator: DecisionTreeClassifier</label><div class=\"sk-toggleable__content\"><pre>DecisionTreeClassifier(random_state=999)</pre></div></div></div><div class=\"sk-serial\"><div class=\"sk-item\"><div class=\"sk-estimator sk-toggleable\"><input class=\"sk-toggleable__control sk-hidden--visually\" id=\"sk-estimator-id-24\" type=\"checkbox\" ><label for=\"sk-estimator-id-24\" class=\"sk-toggleable__label sk-toggleable__label-arrow\">DecisionTreeClassifier</label><div class=\"sk-toggleable__content\"><pre>DecisionTreeClassifier(random_state=999)</pre></div></div></div></div></div></div></div></div></div></div>"
      ],
      "text/plain": [
       "GridSearchCV(cv=RepeatedStratifiedKFold(n_repeats=1, n_splits=5, random_state=999),\n",
       "             estimator=DecisionTreeClassifier(random_state=999), n_jobs=-1,\n",
       "             param_grid={'max_depth': range(3, 25, 3)}, scoring='roc_auc',\n",
       "             verbose=1)"
      ]
     },
     "execution_count": 46,
     "metadata": {},
     "output_type": "execute_result"
    }
   ],
   "source": [
    "# Do a wide search using AUC\n",
    "grid = GridSearchCV(\n",
    "    estimator=dt,\n",
    "    param_grid=param_dict,\n",
    "    cv=cv_wide,\n",
    "    verbose=1,\n",
    "    scoring=\"roc_auc\",\n",
    "    n_jobs=-1,\n",
    ")\n",
    "\n",
    "grid.fit(X_train, y_train)"
   ]
  },
  {
   "cell_type": "code",
   "execution_count": 47,
   "id": "748f8063-0068-41a6-9f7e-1518d135b82d",
   "metadata": {},
   "outputs": [
    {
     "data": {
      "text/plain": [
       "{'max_depth': 18}"
      ]
     },
     "execution_count": 47,
     "metadata": {},
     "output_type": "execute_result"
    }
   ],
   "source": [
    "# What is the best parameter value\n",
    "grid.best_params_"
   ]
  },
  {
   "cell_type": "code",
   "execution_count": 48,
   "id": "474dce75-51d1-4a87-a10b-c1152fbc60da",
   "metadata": {},
   "outputs": [
    {
     "data": {
      "text/plain": [
       "0.8226784454221363"
      ]
     },
     "execution_count": 48,
     "metadata": {},
     "output_type": "execute_result"
    }
   ],
   "source": [
    "# What is the best score this parameter achieved\n",
    "grid.best_score_"
   ]
  },
  {
   "cell_type": "code",
   "execution_count": 49,
   "id": "e8326e2a-8dc7-49d5-b148-85d0bea54705",
   "metadata": {},
   "outputs": [],
   "source": [
    "# Add min samples leaf to the grid search parameters\n",
    "param_dict = {\n",
    "    \"max_depth\": [18],\n",
    "    \"min_samples_leaf\": range(80, 161, 10),\n",
    "    # \"min_samples_split\": range(10, 51, 10),\n",
    "}"
   ]
  },
  {
   "cell_type": "code",
   "execution_count": 50,
   "id": "fbce3ff3-f422-4b48-8aab-316c51bd3c4b",
   "metadata": {},
   "outputs": [
    {
     "name": "stdout",
     "output_type": "stream",
     "text": [
      "Fitting 5 folds for each of 9 candidates, totalling 45 fits\n"
     ]
    },
    {
     "data": {
      "text/html": [
       "<style>#sk-container-id-9 {color: black;background-color: white;}#sk-container-id-9 pre{padding: 0;}#sk-container-id-9 div.sk-toggleable {background-color: white;}#sk-container-id-9 label.sk-toggleable__label {cursor: pointer;display: block;width: 100%;margin-bottom: 0;padding: 0.3em;box-sizing: border-box;text-align: center;}#sk-container-id-9 label.sk-toggleable__label-arrow:before {content: \"▸\";float: left;margin-right: 0.25em;color: #696969;}#sk-container-id-9 label.sk-toggleable__label-arrow:hover:before {color: black;}#sk-container-id-9 div.sk-estimator:hover label.sk-toggleable__label-arrow:before {color: black;}#sk-container-id-9 div.sk-toggleable__content {max-height: 0;max-width: 0;overflow: hidden;text-align: left;background-color: #f0f8ff;}#sk-container-id-9 div.sk-toggleable__content pre {margin: 0.2em;color: black;border-radius: 0.25em;background-color: #f0f8ff;}#sk-container-id-9 input.sk-toggleable__control:checked~div.sk-toggleable__content {max-height: 200px;max-width: 100%;overflow: auto;}#sk-container-id-9 input.sk-toggleable__control:checked~label.sk-toggleable__label-arrow:before {content: \"▾\";}#sk-container-id-9 div.sk-estimator input.sk-toggleable__control:checked~label.sk-toggleable__label {background-color: #d4ebff;}#sk-container-id-9 div.sk-label input.sk-toggleable__control:checked~label.sk-toggleable__label {background-color: #d4ebff;}#sk-container-id-9 input.sk-hidden--visually {border: 0;clip: rect(1px 1px 1px 1px);clip: rect(1px, 1px, 1px, 1px);height: 1px;margin: -1px;overflow: hidden;padding: 0;position: absolute;width: 1px;}#sk-container-id-9 div.sk-estimator {font-family: monospace;background-color: #f0f8ff;border: 1px dotted black;border-radius: 0.25em;box-sizing: border-box;margin-bottom: 0.5em;}#sk-container-id-9 div.sk-estimator:hover {background-color: #d4ebff;}#sk-container-id-9 div.sk-parallel-item::after {content: \"\";width: 100%;border-bottom: 1px solid gray;flex-grow: 1;}#sk-container-id-9 div.sk-label:hover label.sk-toggleable__label {background-color: #d4ebff;}#sk-container-id-9 div.sk-serial::before {content: \"\";position: absolute;border-left: 1px solid gray;box-sizing: border-box;top: 0;bottom: 0;left: 50%;z-index: 0;}#sk-container-id-9 div.sk-serial {display: flex;flex-direction: column;align-items: center;background-color: white;padding-right: 0.2em;padding-left: 0.2em;position: relative;}#sk-container-id-9 div.sk-item {position: relative;z-index: 1;}#sk-container-id-9 div.sk-parallel {display: flex;align-items: stretch;justify-content: center;background-color: white;position: relative;}#sk-container-id-9 div.sk-item::before, #sk-container-id-9 div.sk-parallel-item::before {content: \"\";position: absolute;border-left: 1px solid gray;box-sizing: border-box;top: 0;bottom: 0;left: 50%;z-index: -1;}#sk-container-id-9 div.sk-parallel-item {display: flex;flex-direction: column;z-index: 1;position: relative;background-color: white;}#sk-container-id-9 div.sk-parallel-item:first-child::after {align-self: flex-end;width: 50%;}#sk-container-id-9 div.sk-parallel-item:last-child::after {align-self: flex-start;width: 50%;}#sk-container-id-9 div.sk-parallel-item:only-child::after {width: 0;}#sk-container-id-9 div.sk-dashed-wrapped {border: 1px dashed gray;margin: 0 0.4em 0.5em 0.4em;box-sizing: border-box;padding-bottom: 0.4em;background-color: white;}#sk-container-id-9 div.sk-label label {font-family: monospace;font-weight: bold;display: inline-block;line-height: 1.2em;}#sk-container-id-9 div.sk-label-container {text-align: center;}#sk-container-id-9 div.sk-container {/* jupyter's `normalize.less` sets `[hidden] { display: none; }` but bootstrap.min.css set `[hidden] { display: none !important; }` so we also need the `!important` here to be able to override the default hidden behavior on the sphinx rendered scikit-learn.org. See: https://github.com/scikit-learn/scikit-learn/issues/21755 */display: inline-block !important;position: relative;}#sk-container-id-9 div.sk-text-repr-fallback {display: none;}</style><div id=\"sk-container-id-9\" class=\"sk-top-container\"><div class=\"sk-text-repr-fallback\"><pre>GridSearchCV(cv=RepeatedStratifiedKFold(n_repeats=1, n_splits=5, random_state=999),\n",
       "             estimator=DecisionTreeClassifier(random_state=999), n_jobs=-1,\n",
       "             param_grid={&#x27;max_depth&#x27;: [18],\n",
       "                         &#x27;min_samples_leaf&#x27;: range(80, 161, 10)},\n",
       "             scoring=&#x27;roc_auc&#x27;, verbose=1)</pre><b>In a Jupyter environment, please rerun this cell to show the HTML representation or trust the notebook. <br />On GitHub, the HTML representation is unable to render, please try loading this page with nbviewer.org.</b></div><div class=\"sk-container\" hidden><div class=\"sk-item sk-dashed-wrapped\"><div class=\"sk-label-container\"><div class=\"sk-label sk-toggleable\"><input class=\"sk-toggleable__control sk-hidden--visually\" id=\"sk-estimator-id-25\" type=\"checkbox\" ><label for=\"sk-estimator-id-25\" class=\"sk-toggleable__label sk-toggleable__label-arrow\">GridSearchCV</label><div class=\"sk-toggleable__content\"><pre>GridSearchCV(cv=RepeatedStratifiedKFold(n_repeats=1, n_splits=5, random_state=999),\n",
       "             estimator=DecisionTreeClassifier(random_state=999), n_jobs=-1,\n",
       "             param_grid={&#x27;max_depth&#x27;: [18],\n",
       "                         &#x27;min_samples_leaf&#x27;: range(80, 161, 10)},\n",
       "             scoring=&#x27;roc_auc&#x27;, verbose=1)</pre></div></div></div><div class=\"sk-parallel\"><div class=\"sk-parallel-item\"><div class=\"sk-item\"><div class=\"sk-label-container\"><div class=\"sk-label sk-toggleable\"><input class=\"sk-toggleable__control sk-hidden--visually\" id=\"sk-estimator-id-26\" type=\"checkbox\" ><label for=\"sk-estimator-id-26\" class=\"sk-toggleable__label sk-toggleable__label-arrow\">estimator: DecisionTreeClassifier</label><div class=\"sk-toggleable__content\"><pre>DecisionTreeClassifier(random_state=999)</pre></div></div></div><div class=\"sk-serial\"><div class=\"sk-item\"><div class=\"sk-estimator sk-toggleable\"><input class=\"sk-toggleable__control sk-hidden--visually\" id=\"sk-estimator-id-27\" type=\"checkbox\" ><label for=\"sk-estimator-id-27\" class=\"sk-toggleable__label sk-toggleable__label-arrow\">DecisionTreeClassifier</label><div class=\"sk-toggleable__content\"><pre>DecisionTreeClassifier(random_state=999)</pre></div></div></div></div></div></div></div></div></div></div>"
      ],
      "text/plain": [
       "GridSearchCV(cv=RepeatedStratifiedKFold(n_repeats=1, n_splits=5, random_state=999),\n",
       "             estimator=DecisionTreeClassifier(random_state=999), n_jobs=-1,\n",
       "             param_grid={'max_depth': [18],\n",
       "                         'min_samples_leaf': range(80, 161, 10)},\n",
       "             scoring='roc_auc', verbose=1)"
      ]
     },
     "execution_count": 50,
     "metadata": {},
     "output_type": "execute_result"
    }
   ],
   "source": [
    "# Do a wide search using AUC\n",
    "grid = GridSearchCV(\n",
    "    estimator=dt,\n",
    "    param_grid=param_dict,\n",
    "    cv=cv_wide,\n",
    "    verbose=1,\n",
    "    scoring=\"roc_auc\",\n",
    "    n_jobs=-1,\n",
    ")\n",
    "\n",
    "grid.fit(X_train, y_train)"
   ]
  },
  {
   "cell_type": "code",
   "execution_count": 51,
   "id": "d43734e2-069e-4fd7-a33a-b2ddfb1d5610",
   "metadata": {},
   "outputs": [
    {
     "data": {
      "text/plain": [
       "{'max_depth': 18, 'min_samples_leaf': 100}"
      ]
     },
     "execution_count": 51,
     "metadata": {},
     "output_type": "execute_result"
    }
   ],
   "source": [
    "# What is the best parameter value\n",
    "grid.best_params_"
   ]
  },
  {
   "cell_type": "code",
   "execution_count": 52,
   "id": "885e258b-af5d-4649-9c1e-8827fbd0cadd",
   "metadata": {},
   "outputs": [
    {
     "data": {
      "text/plain": [
       "0.8588294410398604"
      ]
     },
     "execution_count": 52,
     "metadata": {},
     "output_type": "execute_result"
    }
   ],
   "source": [
    "# What is the best score this parameter achieved\n",
    "grid.best_score_"
   ]
  },
  {
   "cell_type": "code",
   "execution_count": 53,
   "id": "38d5d99f-cc82-4751-8dcc-07f4e6ba2aae",
   "metadata": {},
   "outputs": [],
   "source": [
    "# Add min samples split to the grid search parameters\n",
    "param_dict = {\n",
    "    \"max_depth\": [18],\n",
    "    \"min_samples_leaf\": [100],\n",
    "    \"min_samples_split\": range(3, 31, 3),\n",
    "}"
   ]
  },
  {
   "cell_type": "code",
   "execution_count": 54,
   "id": "2b3ad545-81a2-4632-b9c3-59b77f48892a",
   "metadata": {},
   "outputs": [
    {
     "name": "stdout",
     "output_type": "stream",
     "text": [
      "Fitting 5 folds for each of 10 candidates, totalling 50 fits\n"
     ]
    },
    {
     "data": {
      "text/html": [
       "<style>#sk-container-id-10 {color: black;background-color: white;}#sk-container-id-10 pre{padding: 0;}#sk-container-id-10 div.sk-toggleable {background-color: white;}#sk-container-id-10 label.sk-toggleable__label {cursor: pointer;display: block;width: 100%;margin-bottom: 0;padding: 0.3em;box-sizing: border-box;text-align: center;}#sk-container-id-10 label.sk-toggleable__label-arrow:before {content: \"▸\";float: left;margin-right: 0.25em;color: #696969;}#sk-container-id-10 label.sk-toggleable__label-arrow:hover:before {color: black;}#sk-container-id-10 div.sk-estimator:hover label.sk-toggleable__label-arrow:before {color: black;}#sk-container-id-10 div.sk-toggleable__content {max-height: 0;max-width: 0;overflow: hidden;text-align: left;background-color: #f0f8ff;}#sk-container-id-10 div.sk-toggleable__content pre {margin: 0.2em;color: black;border-radius: 0.25em;background-color: #f0f8ff;}#sk-container-id-10 input.sk-toggleable__control:checked~div.sk-toggleable__content {max-height: 200px;max-width: 100%;overflow: auto;}#sk-container-id-10 input.sk-toggleable__control:checked~label.sk-toggleable__label-arrow:before {content: \"▾\";}#sk-container-id-10 div.sk-estimator input.sk-toggleable__control:checked~label.sk-toggleable__label {background-color: #d4ebff;}#sk-container-id-10 div.sk-label input.sk-toggleable__control:checked~label.sk-toggleable__label {background-color: #d4ebff;}#sk-container-id-10 input.sk-hidden--visually {border: 0;clip: rect(1px 1px 1px 1px);clip: rect(1px, 1px, 1px, 1px);height: 1px;margin: -1px;overflow: hidden;padding: 0;position: absolute;width: 1px;}#sk-container-id-10 div.sk-estimator {font-family: monospace;background-color: #f0f8ff;border: 1px dotted black;border-radius: 0.25em;box-sizing: border-box;margin-bottom: 0.5em;}#sk-container-id-10 div.sk-estimator:hover {background-color: #d4ebff;}#sk-container-id-10 div.sk-parallel-item::after {content: \"\";width: 100%;border-bottom: 1px solid gray;flex-grow: 1;}#sk-container-id-10 div.sk-label:hover label.sk-toggleable__label {background-color: #d4ebff;}#sk-container-id-10 div.sk-serial::before {content: \"\";position: absolute;border-left: 1px solid gray;box-sizing: border-box;top: 0;bottom: 0;left: 50%;z-index: 0;}#sk-container-id-10 div.sk-serial {display: flex;flex-direction: column;align-items: center;background-color: white;padding-right: 0.2em;padding-left: 0.2em;position: relative;}#sk-container-id-10 div.sk-item {position: relative;z-index: 1;}#sk-container-id-10 div.sk-parallel {display: flex;align-items: stretch;justify-content: center;background-color: white;position: relative;}#sk-container-id-10 div.sk-item::before, #sk-container-id-10 div.sk-parallel-item::before {content: \"\";position: absolute;border-left: 1px solid gray;box-sizing: border-box;top: 0;bottom: 0;left: 50%;z-index: -1;}#sk-container-id-10 div.sk-parallel-item {display: flex;flex-direction: column;z-index: 1;position: relative;background-color: white;}#sk-container-id-10 div.sk-parallel-item:first-child::after {align-self: flex-end;width: 50%;}#sk-container-id-10 div.sk-parallel-item:last-child::after {align-self: flex-start;width: 50%;}#sk-container-id-10 div.sk-parallel-item:only-child::after {width: 0;}#sk-container-id-10 div.sk-dashed-wrapped {border: 1px dashed gray;margin: 0 0.4em 0.5em 0.4em;box-sizing: border-box;padding-bottom: 0.4em;background-color: white;}#sk-container-id-10 div.sk-label label {font-family: monospace;font-weight: bold;display: inline-block;line-height: 1.2em;}#sk-container-id-10 div.sk-label-container {text-align: center;}#sk-container-id-10 div.sk-container {/* jupyter's `normalize.less` sets `[hidden] { display: none; }` but bootstrap.min.css set `[hidden] { display: none !important; }` so we also need the `!important` here to be able to override the default hidden behavior on the sphinx rendered scikit-learn.org. See: https://github.com/scikit-learn/scikit-learn/issues/21755 */display: inline-block !important;position: relative;}#sk-container-id-10 div.sk-text-repr-fallback {display: none;}</style><div id=\"sk-container-id-10\" class=\"sk-top-container\"><div class=\"sk-text-repr-fallback\"><pre>GridSearchCV(cv=RepeatedStratifiedKFold(n_repeats=1, n_splits=5, random_state=999),\n",
       "             estimator=DecisionTreeClassifier(random_state=999), n_jobs=-1,\n",
       "             param_grid={&#x27;max_depth&#x27;: [18], &#x27;min_samples_leaf&#x27;: [100],\n",
       "                         &#x27;min_samples_split&#x27;: range(3, 31, 3)},\n",
       "             scoring=&#x27;roc_auc&#x27;, verbose=1)</pre><b>In a Jupyter environment, please rerun this cell to show the HTML representation or trust the notebook. <br />On GitHub, the HTML representation is unable to render, please try loading this page with nbviewer.org.</b></div><div class=\"sk-container\" hidden><div class=\"sk-item sk-dashed-wrapped\"><div class=\"sk-label-container\"><div class=\"sk-label sk-toggleable\"><input class=\"sk-toggleable__control sk-hidden--visually\" id=\"sk-estimator-id-28\" type=\"checkbox\" ><label for=\"sk-estimator-id-28\" class=\"sk-toggleable__label sk-toggleable__label-arrow\">GridSearchCV</label><div class=\"sk-toggleable__content\"><pre>GridSearchCV(cv=RepeatedStratifiedKFold(n_repeats=1, n_splits=5, random_state=999),\n",
       "             estimator=DecisionTreeClassifier(random_state=999), n_jobs=-1,\n",
       "             param_grid={&#x27;max_depth&#x27;: [18], &#x27;min_samples_leaf&#x27;: [100],\n",
       "                         &#x27;min_samples_split&#x27;: range(3, 31, 3)},\n",
       "             scoring=&#x27;roc_auc&#x27;, verbose=1)</pre></div></div></div><div class=\"sk-parallel\"><div class=\"sk-parallel-item\"><div class=\"sk-item\"><div class=\"sk-label-container\"><div class=\"sk-label sk-toggleable\"><input class=\"sk-toggleable__control sk-hidden--visually\" id=\"sk-estimator-id-29\" type=\"checkbox\" ><label for=\"sk-estimator-id-29\" class=\"sk-toggleable__label sk-toggleable__label-arrow\">estimator: DecisionTreeClassifier</label><div class=\"sk-toggleable__content\"><pre>DecisionTreeClassifier(random_state=999)</pre></div></div></div><div class=\"sk-serial\"><div class=\"sk-item\"><div class=\"sk-estimator sk-toggleable\"><input class=\"sk-toggleable__control sk-hidden--visually\" id=\"sk-estimator-id-30\" type=\"checkbox\" ><label for=\"sk-estimator-id-30\" class=\"sk-toggleable__label sk-toggleable__label-arrow\">DecisionTreeClassifier</label><div class=\"sk-toggleable__content\"><pre>DecisionTreeClassifier(random_state=999)</pre></div></div></div></div></div></div></div></div></div></div>"
      ],
      "text/plain": [
       "GridSearchCV(cv=RepeatedStratifiedKFold(n_repeats=1, n_splits=5, random_state=999),\n",
       "             estimator=DecisionTreeClassifier(random_state=999), n_jobs=-1,\n",
       "             param_grid={'max_depth': [18], 'min_samples_leaf': [100],\n",
       "                         'min_samples_split': range(3, 31, 3)},\n",
       "             scoring='roc_auc', verbose=1)"
      ]
     },
     "execution_count": 54,
     "metadata": {},
     "output_type": "execute_result"
    }
   ],
   "source": [
    "# Do a wide search using AUC\n",
    "grid = GridSearchCV(\n",
    "    estimator=dt,\n",
    "    param_grid=param_dict,\n",
    "    cv=cv_wide,\n",
    "    verbose=1,\n",
    "    scoring=\"roc_auc\",\n",
    "    n_jobs=-1,\n",
    ")\n",
    "\n",
    "grid.fit(X_train, y_train)"
   ]
  },
  {
   "cell_type": "code",
   "execution_count": 55,
   "id": "7d270ef0-fbbd-4bc7-92f6-32a444ad516e",
   "metadata": {},
   "outputs": [
    {
     "data": {
      "text/plain": [
       "{'max_depth': 18, 'min_samples_leaf': 100, 'min_samples_split': 3}"
      ]
     },
     "execution_count": 55,
     "metadata": {},
     "output_type": "execute_result"
    }
   ],
   "source": [
    "# What is the best parameter value\n",
    "grid.best_params_"
   ]
  },
  {
   "cell_type": "code",
   "execution_count": 56,
   "id": "eac5be2c-07f0-4ed6-84ae-fe3a5cffe386",
   "metadata": {},
   "outputs": [
    {
     "data": {
      "text/plain": [
       "0.8588294410398604"
      ]
     },
     "execution_count": 56,
     "metadata": {},
     "output_type": "execute_result"
    }
   ],
   "source": [
    "# What is the best score this parameter achieved\n",
    "grid.best_score_"
   ]
  },
  {
   "cell_type": "markdown",
   "id": "5560f926-575d-4701-a350-cb74405019fd",
   "metadata": {},
   "source": [
    "---\n",
    "\n",
    "## Evaluate the Model"
   ]
  },
  {
   "cell_type": "code",
   "execution_count": 57,
   "id": "8cfd9767-ca17-472e-914b-841b4ac7e2e1",
   "metadata": {},
   "outputs": [],
   "source": [
    "dt_auc = DecisionTreeClassifier(\n",
    "    max_depth=18,\n",
    "    min_samples_leaf=100,\n",
    "    min_samples_split=3,\n",
    ")\n",
    "dt_auc.fit(X_train, y_train)\n",
    "\n",
    "y_pred = dt_auc.predict(X_test)"
   ]
  },
  {
   "cell_type": "code",
   "execution_count": 58,
   "id": "6e06f40a-f219-4c6c-a631-e918b576b50c",
   "metadata": {},
   "outputs": [
    {
     "name": "stdout",
     "output_type": "stream",
     "text": [
      "Confusion Matrix Tree : \n",
      " [[11111   174]\n",
      " [ 1410  1679]] \n",
      "\n",
      "The precision for Tree is  0.9060982191041554\n",
      "The recall for Tree is  0.5435415992230496 \n",
      "\n"
     ]
    }
   ],
   "source": [
    "print(\"Confusion Matrix Tree : \\n\", confusion_matrix(y_test, y_pred), \"\\n\")\n",
    "print(\"The precision for Tree is \", precision_score(y_test, y_pred))\n",
    "print(\"The recall for Tree is \", recall_score(y_test, y_pred), \"\\n\")"
   ]
  },
  {
   "cell_type": "code",
   "execution_count": null,
   "id": "52dff882-d019-49a4-b2ac-2c2d0fcc34a6",
   "metadata": {},
   "outputs": [],
   "source": []
  }
 ],
 "metadata": {
  "kernelspec": {
   "display_name": "Python 3.10.4 64-bit ('3.10.4')",
   "language": "python",
   "name": "python3"
  },
  "language_info": {
   "codemirror_mode": {
    "name": "ipython",
    "version": 3
   },
   "file_extension": ".py",
   "mimetype": "text/x-python",
   "name": "python",
   "nbconvert_exporter": "python",
   "pygments_lexer": "ipython3",
   "version": "3.10.4"
  },
  "vscode": {
   "interpreter": {
    "hash": "f1db2f4f18a58a4b4e961b11f275a612ba09a1b8a2cad7b2288813cac1ff24a0"
   }
  }
 },
 "nbformat": 4,
 "nbformat_minor": 5
}
